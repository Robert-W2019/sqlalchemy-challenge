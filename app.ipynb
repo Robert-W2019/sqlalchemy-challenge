{
 "cells": [
  {
   "cell_type": "code",
   "execution_count": 1,
   "id": "f187f255",
   "metadata": {},
   "outputs": [],
   "source": [
    "import datetime as dt\n",
    "import numpy as np\n",
    "import pandas as pd\n",
    "\n",
    "import sqlalchemy\n",
    "from sqlalchemy.ext.automap import automap_base\n",
    "from sqlalchemy.orm import Session\n",
    "from sqlalchemy import create_engine, func\n",
    "\n",
    "from flask import Flask, jsonify\n",
    "\n",
    "#Database setup\n",
    "engine = create_engine(\"sqlite:///Resources/hawaii.sqlite\")\n",
    "\n",
    "Base = automap_base()\n",
    "\n",
    "Base.prepare(engine, reflect=True)\n",
    "\n",
    "#references to each table\n",
    "Measurement = Base.classes.measurement\n",
    "Station = Base.classes.station\n",
    "\n",
    "#create session link from py to DB\n",
    "\n",
    "session = Session(engine)\n",
    "\n",
    "#Flask\n",
    "app = Flask(__name__)\n",
    "\n",
    "#Flask routes\n",
    "\n",
    "@app.route('/')\n",
    "def welcome():\n",
    "    return(\n",
    "        f'Welcome to the HI Climate API <br/>'\n",
    "        f'Available Routes: <br/>'\n",
    "        f'/api/v1.0/precipitation<br/>'\n",
    "        f'/api/v1.0/stations<br/>'\n",
    "        f'/api/v1.0/tobs<br/>'\n",
    "        f'/api/v1.0/temp/start/end'\n",
    "    )\n",
    "\n",
    "@app.route(\"/api/v1.0/precipitation\")\n",
    "def precipitation():\n",
    "    #precipitation data from prev year\n",
    "    prev_year = dt.date(2017,8,23) - dt.timedelta(days = 365)\n",
    "                    \n",
    "    #Query for the date and precipitation for the last year\n",
    "    precipitation = session.query(Measurement.date, Measurement.prcp).\\\n",
    "        filter(Measurement.date >= prev_year).all()\n",
    "                        \n",
    "    precip = {date: prcp for date, prcp in precipitation}\n",
    "    \n",
    "    return jsonify (precip)\n",
    "                        \n",
    "if __name__ == '__main__':\n",
    "    app.run()"
   ]
  },
  {
   "cell_type": "code",
   "execution_count": null,
   "id": "3025ea58",
   "metadata": {},
   "outputs": [],
   "source": []
  }
 ],
 "metadata": {
  "kernelspec": {
   "display_name": "Python 3",
   "language": "python",
   "name": "python3"
  },
  "language_info": {
   "codemirror_mode": {
    "name": "ipython",
    "version": 3
   },
   "file_extension": ".py",
   "mimetype": "text/x-python",
   "name": "python",
   "nbconvert_exporter": "python",
   "pygments_lexer": "ipython3",
   "version": "3.8.8"
  }
 },
 "nbformat": 4,
 "nbformat_minor": 5
}
